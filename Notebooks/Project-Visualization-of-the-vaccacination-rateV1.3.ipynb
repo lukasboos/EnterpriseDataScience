{
 "cells": [
  {
   "cell_type": "code",
   "execution_count": null,
   "metadata": {},
   "outputs": [],
   "source": [
    "import pandas as pd\n",
    "\n",
    "import numpy as np\n",
    "\n",
    "import matplotlib.pyplot as plt\n",
    "\n",
    "import subprocess\n",
    "import os\n",
    "\n",
    "pd.set_option('display.max.rows', 500)"
   ]
  },
  {
   "cell_type": "markdown",
   "metadata": {},
   "source": [
    "Data from: https://ourworldindata.org/covid-vaccinations"
   ]
  },
  {
   "cell_type": "code",
   "execution_count": null,
   "metadata": {},
   "outputs": [],
   "source": [
    "# read data from csv file\n",
    "data_path = './ads_covid-19/data/raw/COVID-19-vacc/owid-covid-data.csv'\n",
    "pd_raw = pd.read_csv(data_path)"
   ]
  },
  {
   "cell_type": "code",
   "execution_count": null,
   "metadata": {},
   "outputs": [],
   "source": [
    "# exfiltrate the chosen countries\n",
    "df_vac_ger = pd_raw.loc[pd_raw['location'] == 'Germany']\n",
    "df_vac_gre = pd_raw.loc[pd_raw['location'] == 'Greece']\n",
    "df_vac_nor = pd_raw.loc[pd_raw['location'] == 'Norway']"
   ]
  },
  {
   "cell_type": "code",
   "execution_count": null,
   "metadata": {},
   "outputs": [],
   "source": [
    "# set date as index\n",
    "df_vac_ger.index = df_vac_ger[\"date\"]\n",
    "df_vac_gre.index = df_vac_gre[\"date\"] \n",
    "df_vac_nor.index = df_vac_nor[\"date\"]"
   ]
  },
  {
   "cell_type": "code",
   "execution_count": null,
   "metadata": {},
   "outputs": [],
   "source": [
    "# exfiltrate the values of people fully vaccinated per hundred\n",
    "df_vac_ger = df_vac_ger[\"people_fully_vaccinated_per_hundred\"]\n",
    "df_vac_gre = df_vac_gre[\"people_fully_vaccinated_per_hundred\"]\n",
    "df_vac_nor = df_vac_nor[\"people_fully_vaccinated_per_hundred\"]"
   ]
  },
  {
   "cell_type": "code",
   "execution_count": null,
   "metadata": {},
   "outputs": [],
   "source": [
    "# put the countries together into one dataframe\n",
    "df = pd.concat([df_vac_ger, df_vac_gre,df_vac_nor], axis=1)"
   ]
  },
  {
   "cell_type": "code",
   "execution_count": null,
   "metadata": {},
   "outputs": [],
   "source": [
    "#label columns\n",
    "df.columns = [\"Germany\",\"Greece\",\"Norway\"]"
   ]
  },
  {
   "cell_type": "code",
   "execution_count": null,
   "metadata": {},
   "outputs": [],
   "source": [
    "# plot df\n",
    "df.plot()\n",
    "# save as jpg\n",
    "plt.savefig('relative-vaccination-over-time.jpg', dpi=300)"
   ]
  }
 ],
 "metadata": {
  "kernelspec": {
   "display_name": "Python 3",
   "language": "python",
   "name": "python3"
  },
  "language_info": {
   "codemirror_mode": {
    "name": "ipython",
    "version": 3
   },
   "file_extension": ".py",
   "mimetype": "text/x-python",
   "name": "python",
   "nbconvert_exporter": "python",
   "pygments_lexer": "ipython3",
   "version": "3.8.3"
  }
 },
 "nbformat": 4,
 "nbformat_minor": 4
}
