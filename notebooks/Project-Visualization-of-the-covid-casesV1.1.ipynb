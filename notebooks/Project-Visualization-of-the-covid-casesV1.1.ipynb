{
 "cells": [
  {
   "cell_type": "code",
   "execution_count": null,
   "metadata": {},
   "outputs": [],
   "source": [
    "import pandas as pd\n",
    "\n",
    "import numpy as np\n",
    "\n",
    "import matplotlib.pyplot as plt\n",
    "\n",
    "import subprocess\n",
    "import os\n",
    "\n",
    "pd.set_option('display.max.rows', 500)"
   ]
  },
  {
   "cell_type": "markdown",
   "metadata": {},
   "source": [
    "* RKI, webscrape (webscraping) https://www.rki.de/DE/Content/InfAZ/N/Neuartiges_Coronavirus/Fallzahlen.html/\n",
    "* John Hopkins (GITHUB) https://github.com/CSSEGISandData/COVID-19\n",
    "* REST API services to retrieve data https://npgeo-corona-npgeo-de.hub.arcgis.com/"
   ]
  },
  {
   "cell_type": "markdown",
   "metadata": {},
   "source": [
    "## Data from Github"
   ]
  },
  {
   "cell_type": "markdown",
   "metadata": {},
   "source": [
    "git clone/pull: https://github.com/CSSEGISandData/COVID-19.git"
   ]
  },
  {
   "cell_type": "code",
   "execution_count": null,
   "metadata": {},
   "outputs": [],
   "source": [
    "# Update Data by git pull from: https://github.com/CSSEGISandData/COVID-19.git\n",
    "\n",
    "git_pull = subprocess.Popen( \"/usr/bin/git pull\" , \n",
    "                     cwd = os.path.dirname( './ads_covid-19/data/raw/COVID-19/' ), \n",
    "                     shell = True, \n",
    "                     stdout = subprocess.PIPE, \n",
    "                     stderr = subprocess.PIPE )\n",
    "(out, error) = git_pull.communicate()\n",
    "print(\"Error : \" + str(error)) \n",
    "print(\"out : \" + str(out))\n"
   ]
  },
  {
   "cell_type": "code",
   "execution_count": null,
   "metadata": {},
   "outputs": [],
   "source": [
    "# Create an dictionary with the Number of Inhibitants of the corresponding country\n",
    "# Sources: Italy: https://de.statista.com/statistik/daten/studie/19304/umfrage/gesamtbevoelkerung-in-italien/\n",
    "#          US: https://de.statista.com/statistik/daten/studie/19320/umfrage/gesamtbevoelkerung-der-usa/\n",
    "#          Germany: https://de.statista.com/statistik/daten/studie/1217/umfrage/entwicklung-der-gesamtbevoelkerung-seit-2002/\n",
    "inhibitants = {\n",
    "    'Italy':'59190000',\n",
    "    'US':'333390000',\n",
    "    'Germany':'83200000'\n",
    "}"
   ]
  },
  {
   "cell_type": "code",
   "execution_count": null,
   "metadata": {},
   "outputs": [],
   "source": [
    "# read data from csv file\n",
    "data_path = './ads_covid-19/data/raw/COVID-19/csse_covid_19_data/csse_covid_19_time_series/time_series_covid19_confirmed_global.csv'\n",
    "pd_raw = pd.read_csv(data_path)\n",
    "pd_raw"
   ]
  },
  {
   "cell_type": "code",
   "execution_count": null,
   "metadata": {},
   "outputs": [],
   "source": [
    "# put dates of pd_raw into time_idx\n",
    "time_idx = pd_raw.columns[4:]"
   ]
  },
  {
   "cell_type": "code",
   "execution_count": null,
   "metadata": {},
   "outputs": [],
   "source": [
    "# create DataFrame\n",
    "df_plot = pd.DataFrame({'date':time_idx})\n",
    "df_plot"
   ]
  },
  {
   "cell_type": "code",
   "execution_count": null,
   "metadata": {},
   "outputs": [],
   "source": [
    "# choose countries we want to plot\n",
    "country_list = ['Italy',\n",
    "                'US',\n",
    "                'Germany'\n",
    "]"
   ]
  },
  {
   "cell_type": "code",
   "execution_count": null,
   "metadata": {},
   "outputs": [],
   "source": [
    "# calculate relative cases over time and put it into df_plot\n",
    "for each in country_list:\n",
    "    df_plot[each] = np.array(pd_raw[pd_raw['Country/Region'] == each].iloc[:,4::].sum(axis=0)/int(inhibitants[each]))"
   ]
  },
  {
   "cell_type": "code",
   "execution_count": null,
   "metadata": {},
   "outputs": [],
   "source": [
    "# create plot and save as jpg\n",
    "ax = df_plot.set_index('date').plot()\n",
    "\n",
    "ax.set_ylabel('Relative cases of Covid infectors')\n",
    "ax.set_xlabel('Date')\n",
    "\n",
    "plt.savefig('relative-cases-over-time.jpg', dpi=300)"
   ]
  }
 ],
 "metadata": {
  "kernelspec": {
   "display_name": "Python 3",
   "language": "python",
   "name": "python3"
  },
  "language_info": {
   "codemirror_mode": {
    "name": "ipython",
    "version": 3
   },
   "file_extension": ".py",
   "mimetype": "text/x-python",
   "name": "python",
   "nbconvert_exporter": "python",
   "pygments_lexer": "ipython3",
   "version": "3.8.3"
  }
 },
 "nbformat": 4,
 "nbformat_minor": 4
}
