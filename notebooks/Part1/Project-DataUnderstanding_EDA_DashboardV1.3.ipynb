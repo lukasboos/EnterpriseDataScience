{
 "cells": [
  {
   "cell_type": "markdown",
   "metadata": {},
   "source": [
    "# Explorative Data Analysis"
   ]
  },
  {
   "cell_type": "markdown",
   "metadata": {},
   "source": [
    "- focus is often a visual representation of the data"
   ]
  },
  {
   "cell_type": "code",
   "execution_count": null,
   "metadata": {},
   "outputs": [],
   "source": [
    "import pandas as pd\n",
    "\n",
    "import plotly.graph_objects as go\n",
    "import plotly\n",
    "\n",
    "import dash\n",
    "import dash_core_components as dcc\n",
    "import dash_html_components as html\n",
    "\n",
    "from dash.dependencies import Input, Output"
   ]
  },
  {
   "cell_type": "code",
   "execution_count": null,
   "metadata": {},
   "outputs": [],
   "source": [
    "# Read data from csv\n",
    "df_plot = pd.read_csv('./ads_covid-19/data/processed/COVID_small_flat_table.csv', sep=';')\n",
    "#df_plot.head()"
   ]
  },
  {
   "cell_type": "code",
   "execution_count": null,
   "metadata": {},
   "outputs": [],
   "source": [
    "#create figure object\n",
    "fig = go.Figure() "
   ]
  },
  {
   "cell_type": "code",
   "execution_count": null,
   "metadata": {},
   "outputs": [],
   "source": [
    "# create dash app\n",
    "app = dash.Dash()\n",
    "\n",
    "# choose layout of html div\n",
    "app.layout = html.Div([\n",
    "    html.Label('Multi-Select Country'),\n",
    "    \n",
    "    #create dropdown\n",
    "    dcc.Dropdown(\n",
    "        id='country_drop_down',\n",
    "        options=[\n",
    "            {'label':'Italy', 'value':'Italy'},\n",
    "            {'label':'US', 'value':'US'},\n",
    "            {'label':'Spain', 'value':'Spain'},\n",
    "            {'label':'Germany', 'value':'Germany'},\n",
    "            {'label':'Korea, South', 'value':'Korea, South'}\n",
    "        ], \n",
    "        #which values are preselected\n",
    "        value=['US', 'Germany'], \n",
    "        #allow multi selection\n",
    "        multi=True \n",
    "    ),\n",
    "    dcc.Graph(figure=fig, id='main_window_slope')])"
   ]
  },
  {
   "cell_type": "code",
   "execution_count": null,
   "metadata": {},
   "outputs": [],
   "source": [
    "# callback function for updating figure\n",
    "@app.callback(\n",
    "    Output('main_window_slope', 'figure'),\n",
    "    [Input('country_drop_down', 'value')]\n",
    ")\n",
    "\n",
    "# function to update figure\n",
    "def update_figure(country_list):\n",
    "    \n",
    "    #array with traces to be shown\n",
    "    traces = []\n",
    "    \n",
    "    for each in country_list:\n",
    "        #choose traces and select layout of traces\n",
    "        traces.append(dict(x=df_plot.date,\n",
    "                          y=df_plot[each],\n",
    "                          mode='markers+lines',\n",
    "                          opacity=0.9,\n",
    "                          line_width=2,\n",
    "                          marker_size=4,\n",
    "                          name=each)\n",
    "        )\n",
    "    \n",
    "    return{\n",
    "        'data':traces,\n",
    "        #layout of dashboard\n",
    "        'layout':dict(\n",
    "            width = 1600,\n",
    "            height = 1200,\n",
    "            xaxis_title = \"Time\",\n",
    "            yaxis_title = \"Confirmed infected people (source john hopkins csse, log-scale)\",\n",
    "            xaxis={'tickangle':-45,\n",
    "            'nticks':20,\n",
    "            'tickfont':dict(size=14, color=\"#7f7f7f\")},\n",
    "            yaxis={'type':\"log\",\n",
    "                    'range':'[1.1, 8.5]'}\n",
    "            )\n",
    "    }"
   ]
  },
  {
   "cell_type": "code",
   "execution_count": null,
   "metadata": {},
   "outputs": [],
   "source": [
    "# take care for pressing the stop button before call again, since address will be blocked (server up)\n",
    "app.run_server(debug=True, use_reloader=False) #Turn off reloader if inside jupyter"
   ]
  }
 ],
 "metadata": {
  "kernelspec": {
   "display_name": "Python 3",
   "language": "python",
   "name": "python3"
  },
  "language_info": {
   "codemirror_mode": {
    "name": "ipython",
    "version": 3
   },
   "file_extension": ".py",
   "mimetype": "text/x-python",
   "name": "python",
   "nbconvert_exporter": "python",
   "pygments_lexer": "ipython3",
   "version": "3.8.3"
  }
 },
 "nbformat": 4,
 "nbformat_minor": 4
}
